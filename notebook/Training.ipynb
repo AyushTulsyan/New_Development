{
 "cells": [
  {
   "cell_type": "markdown",
   "metadata": {},
   "source": [
    "# Table of content:\n",
    "1. Importing libraries\n",
    "\n",
    "2. Splitting data (train test split)\n",
    "\n",
    "3. Data cleaning\n",
    "\n",
    "4. Model training"
   ]
  },
  {
   "cell_type": "markdown",
   "metadata": {},
   "source": [
    "# 1. Importing libraries"
   ]
  },
  {
   "cell_type": "code",
   "execution_count": 1,
   "metadata": {},
   "outputs": [],
   "source": [
    "import pandas as pd\n",
    "import numpy as np\n",
    "import seaborn as sns\n",
    "import matplotlib.pyplot as plt\n",
    "import scipy.stats as stats\n",
    "from sklearn.preprocessing import FunctionTransformer\n",
    "from sklearn.pipeline import Pipeline\n",
    "from sklearn.impute import SimpleImputer\n",
    "from sklearn.preprocessing import StandardScaler\n",
    "from sklearn.preprocessing import OneHotEncoder\n",
    "from sklearn.preprocessing import OrdinalEncoder\n",
    "from sklearn.compose import ColumnTransformer\n",
    "from sklearn.model_selection import train_test_split\n",
    "from sklearn.linear_model import LogisticRegression\n",
    "from sklearn.neighbors import KNeighborsClassifier\n",
    "from sklearn.ensemble import RandomForestClassifier\n",
    "from sklearn.ensemble import GradientBoostingClassifier\n",
    "from xgboost import XGBClassifier\n",
    "from sklearn.model_selection import GridSearchCV\n",
    "from sklearn.metrics import accuracy_score\n",
    "from sklearn.metrics import confusion_matrix\n",
    "from sklearn.metrics import confusion_matrix, ConfusionMatrixDisplay\n",
    "from sklearn.metrics import classification_report\n",
    "from sklearn.metrics import roc_auc_score\n",
    "from sklearn import metrics\n",
    "import warnings\n",
    "warnings.filterwarnings(\"ignore\")"
   ]
  },
  {
   "cell_type": "markdown",
   "metadata": {},
   "source": [
    "Now lets import the Airline dataset."
   ]
  },
  {
   "cell_type": "code",
   "execution_count": 2,
   "metadata": {},
   "outputs": [
    {
     "data": {
      "text/html": [
       "<div>\n",
       "<style scoped>\n",
       "    .dataframe tbody tr th:only-of-type {\n",
       "        vertical-align: middle;\n",
       "    }\n",
       "\n",
       "    .dataframe tbody tr th {\n",
       "        vertical-align: top;\n",
       "    }\n",
       "\n",
       "    .dataframe thead th {\n",
       "        text-align: right;\n",
       "    }\n",
       "</style>\n",
       "<table border=\"1\" class=\"dataframe\">\n",
       "  <thead>\n",
       "    <tr style=\"text-align: right;\">\n",
       "      <th></th>\n",
       "      <th>satisfaction</th>\n",
       "      <th>Gender</th>\n",
       "      <th>Customer_Type</th>\n",
       "      <th>Age</th>\n",
       "      <th>Type_of_Travel</th>\n",
       "      <th>Class</th>\n",
       "      <th>Flight_Distance</th>\n",
       "      <th>Seat_comfort</th>\n",
       "      <th>Departure_Arrival_time_convenient</th>\n",
       "      <th>Food_and_drink</th>\n",
       "      <th>...</th>\n",
       "      <th>Online_support</th>\n",
       "      <th>Ease_of_Online_booking</th>\n",
       "      <th>Onboard_service</th>\n",
       "      <th>Leg_room_service</th>\n",
       "      <th>Baggage_handling</th>\n",
       "      <th>Checkin_service</th>\n",
       "      <th>Cleanliness</th>\n",
       "      <th>Online_boarding</th>\n",
       "      <th>Departure_Delay_in_Minutes</th>\n",
       "      <th>Arrival_Delay_in_Minutes</th>\n",
       "    </tr>\n",
       "  </thead>\n",
       "  <tbody>\n",
       "    <tr>\n",
       "      <th>0</th>\n",
       "      <td>satisfied</td>\n",
       "      <td>Female</td>\n",
       "      <td>Loyal Customer</td>\n",
       "      <td>65</td>\n",
       "      <td>Personal Travel</td>\n",
       "      <td>Eco</td>\n",
       "      <td>265</td>\n",
       "      <td>0</td>\n",
       "      <td>0</td>\n",
       "      <td>0</td>\n",
       "      <td>...</td>\n",
       "      <td>2</td>\n",
       "      <td>3</td>\n",
       "      <td>3</td>\n",
       "      <td>0</td>\n",
       "      <td>3</td>\n",
       "      <td>5</td>\n",
       "      <td>3</td>\n",
       "      <td>2</td>\n",
       "      <td>0</td>\n",
       "      <td>0.0</td>\n",
       "    </tr>\n",
       "    <tr>\n",
       "      <th>1</th>\n",
       "      <td>satisfied</td>\n",
       "      <td>Male</td>\n",
       "      <td>Loyal Customer</td>\n",
       "      <td>47</td>\n",
       "      <td>Personal Travel</td>\n",
       "      <td>Business</td>\n",
       "      <td>2464</td>\n",
       "      <td>0</td>\n",
       "      <td>0</td>\n",
       "      <td>0</td>\n",
       "      <td>...</td>\n",
       "      <td>2</td>\n",
       "      <td>3</td>\n",
       "      <td>4</td>\n",
       "      <td>4</td>\n",
       "      <td>4</td>\n",
       "      <td>2</td>\n",
       "      <td>3</td>\n",
       "      <td>2</td>\n",
       "      <td>310</td>\n",
       "      <td>305.0</td>\n",
       "    </tr>\n",
       "    <tr>\n",
       "      <th>2</th>\n",
       "      <td>satisfied</td>\n",
       "      <td>Female</td>\n",
       "      <td>Loyal Customer</td>\n",
       "      <td>15</td>\n",
       "      <td>Personal Travel</td>\n",
       "      <td>Eco</td>\n",
       "      <td>2138</td>\n",
       "      <td>0</td>\n",
       "      <td>0</td>\n",
       "      <td>0</td>\n",
       "      <td>...</td>\n",
       "      <td>2</td>\n",
       "      <td>2</td>\n",
       "      <td>3</td>\n",
       "      <td>3</td>\n",
       "      <td>4</td>\n",
       "      <td>4</td>\n",
       "      <td>4</td>\n",
       "      <td>2</td>\n",
       "      <td>0</td>\n",
       "      <td>0.0</td>\n",
       "    </tr>\n",
       "    <tr>\n",
       "      <th>3</th>\n",
       "      <td>satisfied</td>\n",
       "      <td>Female</td>\n",
       "      <td>Loyal Customer</td>\n",
       "      <td>60</td>\n",
       "      <td>Personal Travel</td>\n",
       "      <td>Eco</td>\n",
       "      <td>623</td>\n",
       "      <td>0</td>\n",
       "      <td>0</td>\n",
       "      <td>0</td>\n",
       "      <td>...</td>\n",
       "      <td>3</td>\n",
       "      <td>1</td>\n",
       "      <td>1</td>\n",
       "      <td>0</td>\n",
       "      <td>1</td>\n",
       "      <td>4</td>\n",
       "      <td>1</td>\n",
       "      <td>3</td>\n",
       "      <td>0</td>\n",
       "      <td>0.0</td>\n",
       "    </tr>\n",
       "    <tr>\n",
       "      <th>4</th>\n",
       "      <td>satisfied</td>\n",
       "      <td>Female</td>\n",
       "      <td>Loyal Customer</td>\n",
       "      <td>70</td>\n",
       "      <td>Personal Travel</td>\n",
       "      <td>Eco</td>\n",
       "      <td>354</td>\n",
       "      <td>0</td>\n",
       "      <td>0</td>\n",
       "      <td>0</td>\n",
       "      <td>...</td>\n",
       "      <td>4</td>\n",
       "      <td>2</td>\n",
       "      <td>2</td>\n",
       "      <td>0</td>\n",
       "      <td>2</td>\n",
       "      <td>4</td>\n",
       "      <td>2</td>\n",
       "      <td>5</td>\n",
       "      <td>0</td>\n",
       "      <td>0.0</td>\n",
       "    </tr>\n",
       "    <tr>\n",
       "      <th>...</th>\n",
       "      <td>...</td>\n",
       "      <td>...</td>\n",
       "      <td>...</td>\n",
       "      <td>...</td>\n",
       "      <td>...</td>\n",
       "      <td>...</td>\n",
       "      <td>...</td>\n",
       "      <td>...</td>\n",
       "      <td>...</td>\n",
       "      <td>...</td>\n",
       "      <td>...</td>\n",
       "      <td>...</td>\n",
       "      <td>...</td>\n",
       "      <td>...</td>\n",
       "      <td>...</td>\n",
       "      <td>...</td>\n",
       "      <td>...</td>\n",
       "      <td>...</td>\n",
       "      <td>...</td>\n",
       "      <td>...</td>\n",
       "      <td>...</td>\n",
       "    </tr>\n",
       "    <tr>\n",
       "      <th>129875</th>\n",
       "      <td>satisfied</td>\n",
       "      <td>Female</td>\n",
       "      <td>disloyal Customer</td>\n",
       "      <td>29</td>\n",
       "      <td>Personal Travel</td>\n",
       "      <td>Eco</td>\n",
       "      <td>1731</td>\n",
       "      <td>5</td>\n",
       "      <td>5</td>\n",
       "      <td>5</td>\n",
       "      <td>...</td>\n",
       "      <td>2</td>\n",
       "      <td>2</td>\n",
       "      <td>3</td>\n",
       "      <td>3</td>\n",
       "      <td>4</td>\n",
       "      <td>4</td>\n",
       "      <td>4</td>\n",
       "      <td>2</td>\n",
       "      <td>0</td>\n",
       "      <td>0.0</td>\n",
       "    </tr>\n",
       "    <tr>\n",
       "      <th>129876</th>\n",
       "      <td>dissatisfied</td>\n",
       "      <td>Male</td>\n",
       "      <td>disloyal Customer</td>\n",
       "      <td>63</td>\n",
       "      <td>Personal Travel</td>\n",
       "      <td>Business</td>\n",
       "      <td>2087</td>\n",
       "      <td>2</td>\n",
       "      <td>3</td>\n",
       "      <td>2</td>\n",
       "      <td>...</td>\n",
       "      <td>1</td>\n",
       "      <td>3</td>\n",
       "      <td>2</td>\n",
       "      <td>3</td>\n",
       "      <td>3</td>\n",
       "      <td>1</td>\n",
       "      <td>2</td>\n",
       "      <td>1</td>\n",
       "      <td>174</td>\n",
       "      <td>172.0</td>\n",
       "    </tr>\n",
       "    <tr>\n",
       "      <th>129877</th>\n",
       "      <td>dissatisfied</td>\n",
       "      <td>Male</td>\n",
       "      <td>disloyal Customer</td>\n",
       "      <td>69</td>\n",
       "      <td>Personal Travel</td>\n",
       "      <td>Eco</td>\n",
       "      <td>2320</td>\n",
       "      <td>3</td>\n",
       "      <td>0</td>\n",
       "      <td>3</td>\n",
       "      <td>...</td>\n",
       "      <td>2</td>\n",
       "      <td>4</td>\n",
       "      <td>4</td>\n",
       "      <td>3</td>\n",
       "      <td>4</td>\n",
       "      <td>2</td>\n",
       "      <td>3</td>\n",
       "      <td>2</td>\n",
       "      <td>155</td>\n",
       "      <td>163.0</td>\n",
       "    </tr>\n",
       "    <tr>\n",
       "      <th>129878</th>\n",
       "      <td>dissatisfied</td>\n",
       "      <td>Male</td>\n",
       "      <td>disloyal Customer</td>\n",
       "      <td>66</td>\n",
       "      <td>Personal Travel</td>\n",
       "      <td>Eco</td>\n",
       "      <td>2450</td>\n",
       "      <td>3</td>\n",
       "      <td>2</td>\n",
       "      <td>3</td>\n",
       "      <td>...</td>\n",
       "      <td>2</td>\n",
       "      <td>3</td>\n",
       "      <td>3</td>\n",
       "      <td>2</td>\n",
       "      <td>3</td>\n",
       "      <td>2</td>\n",
       "      <td>1</td>\n",
       "      <td>2</td>\n",
       "      <td>193</td>\n",
       "      <td>205.0</td>\n",
       "    </tr>\n",
       "    <tr>\n",
       "      <th>129879</th>\n",
       "      <td>dissatisfied</td>\n",
       "      <td>Female</td>\n",
       "      <td>disloyal Customer</td>\n",
       "      <td>38</td>\n",
       "      <td>Personal Travel</td>\n",
       "      <td>Eco</td>\n",
       "      <td>4307</td>\n",
       "      <td>3</td>\n",
       "      <td>4</td>\n",
       "      <td>3</td>\n",
       "      <td>...</td>\n",
       "      <td>3</td>\n",
       "      <td>4</td>\n",
       "      <td>5</td>\n",
       "      <td>5</td>\n",
       "      <td>5</td>\n",
       "      <td>3</td>\n",
       "      <td>3</td>\n",
       "      <td>3</td>\n",
       "      <td>185</td>\n",
       "      <td>186.0</td>\n",
       "    </tr>\n",
       "  </tbody>\n",
       "</table>\n",
       "<p>129880 rows × 23 columns</p>\n",
       "</div>"
      ],
      "text/plain": [
       "        satisfaction  Gender      Customer_Type  Age   Type_of_Travel  \\\n",
       "0          satisfied  Female     Loyal Customer   65  Personal Travel   \n",
       "1          satisfied    Male     Loyal Customer   47  Personal Travel   \n",
       "2          satisfied  Female     Loyal Customer   15  Personal Travel   \n",
       "3          satisfied  Female     Loyal Customer   60  Personal Travel   \n",
       "4          satisfied  Female     Loyal Customer   70  Personal Travel   \n",
       "...              ...     ...                ...  ...              ...   \n",
       "129875     satisfied  Female  disloyal Customer   29  Personal Travel   \n",
       "129876  dissatisfied    Male  disloyal Customer   63  Personal Travel   \n",
       "129877  dissatisfied    Male  disloyal Customer   69  Personal Travel   \n",
       "129878  dissatisfied    Male  disloyal Customer   66  Personal Travel   \n",
       "129879  dissatisfied  Female  disloyal Customer   38  Personal Travel   \n",
       "\n",
       "           Class  Flight_Distance  Seat_comfort  \\\n",
       "0            Eco              265             0   \n",
       "1       Business             2464             0   \n",
       "2            Eco             2138             0   \n",
       "3            Eco              623             0   \n",
       "4            Eco              354             0   \n",
       "...          ...              ...           ...   \n",
       "129875       Eco             1731             5   \n",
       "129876  Business             2087             2   \n",
       "129877       Eco             2320             3   \n",
       "129878       Eco             2450             3   \n",
       "129879       Eco             4307             3   \n",
       "\n",
       "        Departure_Arrival_time_convenient  Food_and_drink  ...  \\\n",
       "0                                       0               0  ...   \n",
       "1                                       0               0  ...   \n",
       "2                                       0               0  ...   \n",
       "3                                       0               0  ...   \n",
       "4                                       0               0  ...   \n",
       "...                                   ...             ...  ...   \n",
       "129875                                  5               5  ...   \n",
       "129876                                  3               2  ...   \n",
       "129877                                  0               3  ...   \n",
       "129878                                  2               3  ...   \n",
       "129879                                  4               3  ...   \n",
       "\n",
       "        Online_support  Ease_of_Online_booking  Onboard_service  \\\n",
       "0                    2                       3                3   \n",
       "1                    2                       3                4   \n",
       "2                    2                       2                3   \n",
       "3                    3                       1                1   \n",
       "4                    4                       2                2   \n",
       "...                ...                     ...              ...   \n",
       "129875               2                       2                3   \n",
       "129876               1                       3                2   \n",
       "129877               2                       4                4   \n",
       "129878               2                       3                3   \n",
       "129879               3                       4                5   \n",
       "\n",
       "        Leg_room_service  Baggage_handling  Checkin_service  Cleanliness  \\\n",
       "0                      0                 3                5            3   \n",
       "1                      4                 4                2            3   \n",
       "2                      3                 4                4            4   \n",
       "3                      0                 1                4            1   \n",
       "4                      0                 2                4            2   \n",
       "...                  ...               ...              ...          ...   \n",
       "129875                 3                 4                4            4   \n",
       "129876                 3                 3                1            2   \n",
       "129877                 3                 4                2            3   \n",
       "129878                 2                 3                2            1   \n",
       "129879                 5                 5                3            3   \n",
       "\n",
       "        Online_boarding  Departure_Delay_in_Minutes  Arrival_Delay_in_Minutes  \n",
       "0                     2                           0                       0.0  \n",
       "1                     2                         310                     305.0  \n",
       "2                     2                           0                       0.0  \n",
       "3                     3                           0                       0.0  \n",
       "4                     5                           0                       0.0  \n",
       "...                 ...                         ...                       ...  \n",
       "129875                2                           0                       0.0  \n",
       "129876                1                         174                     172.0  \n",
       "129877                2                         155                     163.0  \n",
       "129878                2                         193                     205.0  \n",
       "129879                3                         185                     186.0  \n",
       "\n",
       "[129880 rows x 23 columns]"
      ]
     },
     "execution_count": 2,
     "metadata": {},
     "output_type": "execute_result"
    }
   ],
   "source": [
    "df = pd.read_csv(\"D:\\Projects Datasets/Invistico_Airline.csv\")\n",
    "df"
   ]
  },
  {
   "cell_type": "markdown",
   "metadata": {},
   "source": [
    "Lets create the target and feature dataframe."
   ]
  },
  {
   "cell_type": "code",
   "execution_count": 3,
   "metadata": {},
   "outputs": [],
   "source": [
    "target = pd.DataFrame(df['satisfaction'])\n",
    "feature = df.drop('satisfaction', axis = 1)"
   ]
  },
  {
   "cell_type": "code",
   "execution_count": 4,
   "metadata": {},
   "outputs": [],
   "source": [
    "target['satisfaction'] = target['satisfaction'].replace('satisfied','1')\n",
    "target['satisfaction'] = target['satisfaction'].replace('dissatisfied','0')\n",
    "target['satisfaction'] = target['satisfaction'].astype('int64')"
   ]
  },
  {
   "cell_type": "markdown",
   "metadata": {},
   "source": [
    "# 2. Splitting data (train test split)"
   ]
  },
  {
   "cell_type": "code",
   "execution_count": 5,
   "metadata": {},
   "outputs": [],
   "source": [
    "X_train, X_test, y_train, y_test = train_test_split(feature, target, test_size=0.2, random_state=25)"
   ]
  },
  {
   "cell_type": "markdown",
   "metadata": {},
   "source": [
    "Now further splitting of feature dataframe is done on the basis of discrete, continuous and categorical data."
   ]
  },
  {
   "cell_type": "code",
   "execution_count": 6,
   "metadata": {},
   "outputs": [
    {
     "name": "stdout",
     "output_type": "stream",
     "text": [
      "['Seat_comfort', 'Departure_Arrival_time_convenient', 'Food_and_drink', 'Gate_location', 'Inflight_wifi_service', 'Inflight_entertainment', 'Online_support', 'Ease_of_Online_booking', 'Onboard_service', 'Leg_room_service', 'Baggage_handling', 'Checkin_service', 'Cleanliness', 'Online_boarding']\n",
      "No. of discrete variable:  14\n"
     ]
    }
   ],
   "source": [
    "discrete_num = [col for col in X_train.columns if X_train[col].dtype !='O' and X_train[col].nunique() <= 10]\n",
    "print(discrete_num)\n",
    "print('No. of discrete variable: ', len((discrete_num)))"
   ]
  },
  {
   "cell_type": "code",
   "execution_count": 7,
   "metadata": {},
   "outputs": [
    {
     "name": "stdout",
     "output_type": "stream",
     "text": [
      "['Age', 'Flight_Distance', 'Departure_Delay_in_Minutes', 'Arrival_Delay_in_Minutes']\n",
      "No. of continuous variable:  4\n"
     ]
    }
   ],
   "source": [
    "conti_num = [col for col in X_train.columns if X_train[col].dtype !='O' and X_train[col].nunique() > 10]\n",
    "print(conti_num)\n",
    "print('No. of continuous variable: ', len(conti_num))"
   ]
  },
  {
   "cell_type": "code",
   "execution_count": 8,
   "metadata": {},
   "outputs": [
    {
     "name": "stdout",
     "output_type": "stream",
     "text": [
      "['Gender', 'Customer_Type', 'Type_of_Travel', 'Class']\n",
      "No. of categorical variable:  4\n"
     ]
    }
   ],
   "source": [
    "cat_var = [col for col in X_train.columns if X_train[col].dtype =='O']\n",
    "print(cat_var)\n",
    "print('No. of categorical variable: ', len(cat_var))\n",
    "ohe = ['Gender', 'Customer_Type', 'Type_of_Travel']\n",
    "oe = ['Class']"
   ]
  },
  {
   "cell_type": "markdown",
   "metadata": {},
   "source": [
    "Okay so let's simply eliminate all of the duplicate datapoints from the training dataset."
   ]
  },
  {
   "cell_type": "code",
   "execution_count": 9,
   "metadata": {},
   "outputs": [],
   "source": [
    "X_train.drop_duplicates(inplace=True)"
   ]
  },
  {
   "cell_type": "markdown",
   "metadata": {},
   "source": [
    "# 3. Data cleaning \n",
    "(a) Outliers are removed from the features that are identified in box plot."
   ]
  },
  {
   "cell_type": "code",
   "execution_count": 10,
   "metadata": {},
   "outputs": [],
   "source": [
    "for i in ['Onboard_service', 'Checkin_service']:\n",
    "    outlier = X_train[X_train[i]<2].index\n",
    "    X_train.drop(outlier, axis = 0, inplace = True)\n",
    "    y_train.drop(outlier, axis = 0, inplace = True)"
   ]
  },
  {
   "cell_type": "code",
   "execution_count": 11,
   "metadata": {},
   "outputs": [],
   "source": [
    "for i in conti_num:\n",
    "    q1, q3 = np.percentile(X_train[i],[25,75])\n",
    "    iqr = q3 - q1\n",
    "    lower = q1 - 1.5*iqr\n",
    "    higher = q3 + 1.5*iqr\n",
    "    outlier = X_train[X_train[i]>higher].index.append(X_train[X_train[i]<lower].index)\n",
    "    X_train.drop(outlier, axis = 0, inplace = True)\n",
    "    y_train.drop(outlier, axis = 0, inplace = True)"
   ]
  },
  {
   "cell_type": "markdown",
   "metadata": {},
   "source": [
    "(b) Creation of pipeines to fill missing values and categorical encoding according to datatypes.\n"
   ]
  },
  {
   "cell_type": "code",
   "execution_count": 12,
   "metadata": {},
   "outputs": [],
   "source": [
    "discrete_num_pipeline = Pipeline([\n",
    "    ('impute', SimpleImputer(strategy = 'most_frequent')),\n",
    "    ('scalar', StandardScaler())\n",
    "])\n",
    "conti_num_pipeline = Pipeline([\n",
    "    ('impute', SimpleImputer(strategy = 'median')),\n",
    "    ('scalar', StandardScaler())\n",
    "])\n",
    "cat_ohe_pipeline = Pipeline([\n",
    "    ('impute', SimpleImputer(strategy = 'most_frequent')),\n",
    "    ('ohe', OneHotEncoder(handle_unknown='ignore'))\n",
    "])\n",
    "cat_oe_pipeline = Pipeline([\n",
    "    ('impute', SimpleImputer(strategy = 'most_frequent')),\n",
    "    ('oe', OrdinalEncoder())\n",
    "])"
   ]
  },
  {
   "cell_type": "markdown",
   "metadata": {},
   "source": [
    "(c) Now, transformation is used to pass discrete and continuous variables in their respective pipelines and then fit and transform the processed data in feature variable."
   ]
  },
  {
   "cell_type": "code",
   "execution_count": 13,
   "metadata": {},
   "outputs": [],
   "source": [
    "transformer = ColumnTransformer(transformers=\n",
    "    [\n",
    "    ('tnf1', discrete_num_pipeline, discrete_num),\n",
    "    ('tnf2', conti_num_pipeline, conti_num),\n",
    "    ('tnf3', cat_oe_pipeline, oe),\n",
    "    ('tnf4', cat_ohe_pipeline, ohe)\n",
    "], remainder = 'passthrough')"
   ]
  },
  {
   "cell_type": "markdown",
   "metadata": {},
   "source": [
    "(d) Lets transform our training and test dataset."
   ]
  },
  {
   "cell_type": "code",
   "execution_count": 14,
   "metadata": {},
   "outputs": [],
   "source": [
    "X_train = transformer.fit_transform(X_train)\n",
    "X_test = transformer.transform(X_test)"
   ]
  },
  {
   "cell_type": "markdown",
   "metadata": {},
   "source": [
    "# 4. Model training"
   ]
  },
  {
   "cell_type": "code",
   "execution_count": 15,
   "metadata": {},
   "outputs": [],
   "source": [
    "def evaluate_model(true,predicted):\n",
    "    acc = accuracy_score(true, predicted)\n",
    "    matrix = confusion_matrix(true, predicted)\n",
    "    report = classification_report(true, predicted)\n",
    "    return acc"
   ]
  },
  {
   "cell_type": "markdown",
   "metadata": {},
   "source": [
    "Okay so now check the train and test accuracy of classification models."
   ]
  },
  {
   "cell_type": "code",
   "execution_count": 16,
   "metadata": {},
   "outputs": [
    {
     "name": "stdout",
     "output_type": "stream",
     "text": [
      "Logistic_Regression\n",
      "Model performance on training set:\n",
      "Train accuracy: 0.8440\n",
      "----------------------------------------\n",
      "Model performance on test set:\n",
      "Test accuracy: 0.8296\n",
      "========================================\n",
      "\n",
      "\n",
      "KNeighbors_Classifier\n",
      "Model performance on training set:\n",
      "Train accuracy: 0.9474\n",
      "----------------------------------------\n",
      "Model performance on test set:\n",
      "Test accuracy: 0.9038\n",
      "========================================\n",
      "\n",
      "\n",
      "RandomForest_Classifier\n",
      "Model performance on training set:\n",
      "Train accuracy: 1.0000\n",
      "----------------------------------------\n",
      "Model performance on test set:\n",
      "Test accuracy: 0.9525\n",
      "========================================\n",
      "\n",
      "\n",
      "GradientBoosting_Classifier\n",
      "Model performance on training set:\n",
      "Train accuracy: 0.9317\n",
      "----------------------------------------\n",
      "Model performance on test set:\n",
      "Test accuracy: 0.9233\n",
      "========================================\n",
      "\n",
      "\n",
      "XGB_Classifier\n",
      "Model performance on training set:\n",
      "Train accuracy: 0.9740\n",
      "----------------------------------------\n",
      "Model performance on test set:\n",
      "Test accuracy: 0.9529\n",
      "========================================\n",
      "\n",
      "\n"
     ]
    }
   ],
   "source": [
    "models = {\n",
    "    \"Logistic_Regression\":LogisticRegression(),\n",
    "    \"KNeighbors_Classifier\":KNeighborsClassifier(),\n",
    "    \"RandomForest_Classifier\":RandomForestClassifier(),\n",
    "    \"GradientBoosting_Classifier\":GradientBoostingClassifier(),\n",
    "    \"XGB_Classifier\":XGBClassifier()\n",
    "}\n",
    "model_dic = dict()\n",
    "\n",
    "for i in range(len(list(models))):\n",
    "    model = list(models.values())[i]\n",
    "    model.fit(X_train,y_train)\n",
    "    \n",
    "    y_train_pred = model.predict(X_train)\n",
    "    y_test_pred = model.predict(X_test)\n",
    "    \n",
    "    train_acc = evaluate_model(y_train,y_train_pred)\n",
    "    test_acc = evaluate_model(y_test,y_test_pred)\n",
    "    \n",
    "    print(list(models.keys())[i])\n",
    "    model_dic[(list(models.keys())[i])] = test_acc\n",
    "    \n",
    "    print('Model performance on training set:')\n",
    "    print(\"Train accuracy: {:.4f}\".format(train_acc))\n",
    "    # print(\"Confusion matrix: {}\".format(matrix_train))\n",
    "    # print(\"Classification report: {}\".format(report_train))\n",
    "    \n",
    "    print(\"----------------------------------------\")\n",
    "    \n",
    "    print('Model performance on test set:')\n",
    "    print(\"Test accuracy: {:.4f}\".format(test_acc))\n",
    "    # print(\"Confusion matrix: {}\".format(matrix_test))\n",
    "    # print(\"Classification report: {}\".format(report_test))\n",
    "    # print(\"AUC score: {:.4f}\".format(auc_score))\n",
    "    \n",
    "    print(\"=\"*40)\n",
    "    print('\\n')    \n"
   ]
  },
  {
   "cell_type": "markdown",
   "metadata": {},
   "source": [
    "#  Model comparison\n",
    "* Based on test accuracy"
   ]
  },
  {
   "cell_type": "code",
   "execution_count": 17,
   "metadata": {},
   "outputs": [
    {
     "data": {
      "text/html": [
       "<div>\n",
       "<style scoped>\n",
       "    .dataframe tbody tr th:only-of-type {\n",
       "        vertical-align: middle;\n",
       "    }\n",
       "\n",
       "    .dataframe tbody tr th {\n",
       "        vertical-align: top;\n",
       "    }\n",
       "\n",
       "    .dataframe thead th {\n",
       "        text-align: right;\n",
       "    }\n",
       "</style>\n",
       "<table border=\"1\" class=\"dataframe\">\n",
       "  <thead>\n",
       "    <tr style=\"text-align: right;\">\n",
       "      <th></th>\n",
       "      <th>Logistic_Regression</th>\n",
       "      <th>KNeighbors_Classifier</th>\n",
       "      <th>RandomForest_Classifier</th>\n",
       "      <th>GradientBoosting_Classifier</th>\n",
       "      <th>XGB_Classifier</th>\n",
       "    </tr>\n",
       "  </thead>\n",
       "  <tbody>\n",
       "    <tr>\n",
       "      <th>accuracy</th>\n",
       "      <td>0.829612</td>\n",
       "      <td>0.903757</td>\n",
       "      <td>0.952533</td>\n",
       "      <td>0.923275</td>\n",
       "      <td>0.95288</td>\n",
       "    </tr>\n",
       "  </tbody>\n",
       "</table>\n",
       "</div>"
      ],
      "text/plain": [
       "          Logistic_Regression  KNeighbors_Classifier  RandomForest_Classifier  \\\n",
       "accuracy             0.829612               0.903757                 0.952533   \n",
       "\n",
       "          GradientBoosting_Classifier  XGB_Classifier  \n",
       "accuracy                     0.923275         0.95288  "
      ]
     },
     "execution_count": 17,
     "metadata": {},
     "output_type": "execute_result"
    }
   ],
   "source": [
    "model_compare=pd.DataFrame(model_dic,index=['accuracy'])\n",
    "model_compare"
   ]
  },
  {
   "cell_type": "code",
   "execution_count": 18,
   "metadata": {},
   "outputs": [
    {
     "data": {
      "text/plain": [
       "<AxesSubplot:>"
      ]
     },
     "execution_count": 18,
     "metadata": {},
     "output_type": "execute_result"
    },
    {
     "data": {
      "image/png": "[encoded data removed]",
      "text/plain": [
       "<Figure size 640x480 with 1 Axes>"
      ]
     },
     "metadata": {},
     "output_type": "display_data"
    }
   ],
   "source": [
    "model_compare.T.plot(kind='bar')"
   ]
  },
  {
   "cell_type": "markdown",
   "metadata": {},
   "source": [
    "Out of all models XGBClassifier and random forest are having best test accuracy of around 95% but random forest is overfitted so we go with XGBClassifier.\n",
    "\n",
    "So now lets perform the hyperparameter tuning on XGBClassifier."
   ]
  },
  {
   "cell_type": "code",
   "execution_count": 19,
   "metadata": {},
   "outputs": [
    {
     "data": {
      "text/plain": [
       "XGBClassifier(base_score=None, booster=None, callbacks=None,\n",
       "              colsample_bylevel=None, colsample_bynode=None,\n",
       "              colsample_bytree=None, early_stopping_rounds=None,\n",
       "              enable_categorical=False, eval_metric=None, feature_types=None,\n",
       "              gamma=None, gpu_id=None, grow_policy=None, importance_type=None,\n",
       "              interaction_constraints=None, learning_rate=0.1, max_bin=None,\n",
       "              max_cat_threshold=None, max_cat_to_onehot=None,\n",
       "              max_delta_step=None, max_depth=None, max_leaves=None,\n",
       "              min_child_weight=None, missing=nan, monotone_constraints=None,\n",
       "              n_estimators=256, n_jobs=None, num_parallel_tree=None,\n",
       "              predictor=None, random_state=None, ...)"
      ]
     },
     "execution_count": 19,
     "metadata": {},
     "output_type": "execute_result"
    }
   ],
   "source": [
    "model = XGBClassifier()\n",
    "param = {'learning_rate':[.1,.01,.05,.001],\n",
    "         'n_estimators': [8,16,32,64,128,256]\n",
    "        }\n",
    "gs = GridSearchCV(model,param,cv=3)\n",
    "gs.fit(X_train,y_train)\n",
    "model.set_params(**gs.best_params_)\n",
    "model.fit(X_train,y_train)"
   ]
  },
  {
   "cell_type": "code",
   "execution_count": 20,
   "metadata": {},
   "outputs": [
    {
     "data": {
      "text/plain": [
       "0.9713163952716539"
      ]
     },
     "execution_count": 20,
     "metadata": {},
     "output_type": "execute_result"
    }
   ],
   "source": [
    "train_pred = model.predict(X_train)\n",
    "train_accuracy = accuracy_score(train_pred, y_train)\n",
    "train_accuracy"
   ]
  },
  {
   "cell_type": "code",
   "execution_count": 21,
   "metadata": {},
   "outputs": [
    {
     "data": {
      "text/plain": [
       "0.9537265167847243"
      ]
     },
     "execution_count": 21,
     "metadata": {},
     "output_type": "execute_result"
    }
   ],
   "source": [
    "test_prediction = model.predict(X_test)\n",
    "test_accuracy = accuracy_score(test_prediction, y_test)\n",
    "test_accuracy"
   ]
  },
  {
   "cell_type": "markdown",
   "metadata": {},
   "source": [
    "Confusion matrix is plotted to measure the performance of XGBClassifier by identifying the total number of correct and incorrect predictons, as true negative and positive, false negative and positive"
   ]
  },
  {
   "cell_type": "code",
   "execution_count": 22,
   "metadata": {},
   "outputs": [
    {
     "data": {
      "text/plain": [
       "array([[11201,   530],\n",
       "       [  672, 13573]], dtype=int64)"
      ]
     },
     "execution_count": 22,
     "metadata": {},
     "output_type": "execute_result"
    }
   ],
   "source": [
    "matrix = confusion_matrix(y_test,test_prediction)\n",
    "matrix"
   ]
  },
  {
   "cell_type": "code",
   "execution_count": 23,
   "metadata": {},
   "outputs": [
    {
     "data": {
      "text/plain": [
       "<sklearn.metrics._plot.confusion_matrix.ConfusionMatrixDisplay at 0x27f026f2250>"
      ]
     },
     "execution_count": 23,
     "metadata": {},
     "output_type": "execute_result"
    },
    {
     "data": {
      "image/png": "[encoded data removed]",
      "text/plain": [
       "<Figure size 640x480 with 2 Axes>"
      ]
     },
     "metadata": {},
     "output_type": "display_data"
    }
   ],
   "source": [
    "plot = ConfusionMatrixDisplay(matrix, display_labels=['Dissatisfied','Satisfied'] )\n",
    "plot.plot()"
   ]
  },
  {
   "cell_type": "markdown",
   "metadata": {},
   "source": [
    "Classification report is imported to measure performance of metric by observing precision, recall, f1-score and support values. Used to limit the values of FP, FN and both precision and recall."
   ]
  },
  {
   "cell_type": "code",
   "execution_count": 24,
   "metadata": {},
   "outputs": [
    {
     "name": "stdout",
     "output_type": "stream",
     "text": [
      "              precision    recall  f1-score   support\n",
      "\n",
      "           0       0.95      0.94      0.95     11873\n",
      "           1       0.95      0.96      0.96     14103\n",
      "\n",
      "    accuracy                           0.95     25976\n",
      "   macro avg       0.95      0.95      0.95     25976\n",
      "weighted avg       0.95      0.95      0.95     25976\n",
      "\n"
     ]
    }
   ],
   "source": [
    "report = classification_report(test_prediction, y_test)\n",
    "print(report)"
   ]
  },
  {
   "cell_type": "markdown",
   "metadata": {},
   "source": [
    "Probability of test data is predicted and threshold value is used to separated satisfied and dissatisfied customers. Generally 0.5 is the default threshold value.\n",
    "\n",
    "Roc-auc curve is plotted between true positive rate and false positive rate."
   ]
  },
  {
   "cell_type": "code",
   "execution_count": 25,
   "metadata": {},
   "outputs": [
    {
     "data": {
      "text/plain": [
       "array([2.5654569e-02, 9.9867201e-01, 8.0174005e-01, ..., 4.1722227e-04,\n",
       "       9.9949086e-01, 9.8166591e-01], dtype=float32)"
      ]
     },
     "execution_count": 25,
     "metadata": {},
     "output_type": "execute_result"
    }
   ],
   "source": [
    "y_pred_proba = model.predict_proba(X_test)[:,1]\n",
    "y_pred_proba"
   ]
  },
  {
   "cell_type": "code",
   "execution_count": 26,
   "metadata": {},
   "outputs": [
    {
     "data": {
      "image/png": "[encoded data removed]",
      "text/plain": [
       "<Figure size 640x480 with 1 Axes>"
      ]
     },
     "metadata": {},
     "output_type": "display_data"
    }
   ],
   "source": [
    "fpr, tpr, threshold = metrics.roc_curve(y_test,  y_pred_proba)\n",
    "auc = roc_auc_score(y_test, y_pred_proba)\n",
    "plt.plot(fpr, tpr, label=\"AUC Score=\"+str(auc))\n",
    "plt.plot([0, 1], [0, 1], 'k--', label='Random guess')\n",
    "plt.ylabel('True Positive Rate')\n",
    "plt.xlabel('False Positive Rate')\n",
    "plt.legend(loc=4)\n",
    "plt.show()"
   ]
  }
 ],
 "metadata": {
  "kernelspec": {
   "display_name": "Python 3 (ipykernel)",
   "language": "python",
   "name": "python3"
  },
  "language_info": {
   "codemirror_mode": {
    "name": "ipython",
    "version": 3
   },
   "file_extension": ".py",
   "mimetype": "text/x-python",
   "name": "python",
   "nbconvert_exporter": "python",
   "pygments_lexer": "ipython3",
   "version": "3.9.13"
  }
 },
 "nbformat": 4,
 "nbformat_minor": 2
}
